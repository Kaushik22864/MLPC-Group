{
  "cells": [
    {
      "cell_type": "markdown",
      "source": [
        " Smart Grid Optimization using Genetic Algorithm with Parallelization"
      ],
      "metadata": {
        "id": "ZBx6PRw0AQ1e"
      }
    },
    {
      "cell_type": "code",
      "execution_count": 173,
      "metadata": {
        "id": "PHTFomg6J1it"
      },
      "outputs": [],
      "source": [
        " #import necessary libraries\n",
        "\n",
        "import numpy as np\n",
        "import matplotlib.pyplot as plt\n",
        "import multiprocessing  # For parallel processing\n",
        "from multiprocessing import Pool  # For using multiprocessing Pool\n",
        "import time\n",
        "import random\n",
        "import pandas as pd\n",
        "import psutil\n",
        "import threading\n",
        "from tabulate import tabulate\n",
        "from matplotlib.ticker import FormatStrFormatter\n"
      ]
    },
    {
      "cell_type": "code",
      "execution_count": 174,
      "metadata": {
        "id": "dXlHyJ1mJ-gc"
      },
      "outputs": [],
      "source": [
        "# Problem Parameters\n",
        "NUM_NODES = 10  # Number of energy-consuming nodes (e.g., houses or districts)\n",
        "NUM_SOURCES = 3  # Number of energy sources (e.g., solar, wind, hydro)\n",
        "HOURS = 24  # Number of time slots (24-hour cycle)\n",
        "POP_SIZE = 20  # Population size for the Genetic Algorithm\n",
        "GENS = 50  # Number of generations to evolve #should be 50\n",
        "MUT_RATE = 0.1  # Mutation rate (fraction of genes to mutate)\n",
        "CROSS_RATE = 0.7  # Crossover rate (probability of crossover)"
      ]
    },
    {
      "cell_type": "code",
      "execution_count": 175,
      "metadata": {
        "id": "ClQKgHxhKEL6"
      },
      "outputs": [],
      "source": [
        "np.random.seed(42)  # Set seed for reproducibility"
      ]
    },
    {
      "cell_type": "code",
      "execution_count": 176,
      "metadata": {
        "id": "C7GH5MDIKGH7"
      },
      "outputs": [],
      "source": [
        "# Generate a matrix representing the electricity demand of each node for each hour\n",
        "demand_matrix = np.random.randint(50, 150, size=(NUM_NODES, HOURS))\n",
        "\n",
        "# Generate source capacities for each source and hour\n",
        "source_capacity = np.random.randint(300, 500, size=(NUM_SOURCES, HOURS))\n",
        "\n",
        "# Random cost per unit of energy for each source\n",
        "cost_per_unit = np.random.uniform(1.0, 3.0, size=(NUM_SOURCES,))\n",
        "\n",
        "# Function to create a random chromosome (an individual solution)\n",
        "def create_chromosome():\n",
        "    return np.random.rand(NUM_SOURCES, NUM_NODES, HOURS)"
      ]
    },
    {
      "cell_type": "code",
      "execution_count": 177,
      "metadata": {
        "id": "SHMFQ9w_KI20"
      },
      "outputs": [],
      "source": [
        "# Evaluate the fitness of a chromosome based on cost and penalties for constraints\n",
        "def evaluate_fitness(chromosome):\n",
        "    total_cost = 0  # Tracks total energy cost\n",
        "    penalty = 0  # Tracks penalty for constraint violations\n",
        "\n",
        "    # Iterate through each hour\n",
        "    for h in range(HOURS):\n",
        "        # Check if each node meets demand\n",
        "        for n in range(NUM_NODES):\n",
        "            total_power = sum(chromosome[s][n][h] for s in range(NUM_SOURCES))\n",
        "            if total_power < demand_matrix[n][h]:\n",
        "                penalty += (demand_matrix[n][h] - total_power) ** 2  # Penalty for under-supply\n",
        "\n",
        "        # Check if source exceeds its capacity\n",
        "        for s in range(NUM_SOURCES):\n",
        "            source_total = sum(chromosome[s, :, h])\n",
        "            if source_total > source_capacity[s][h]:\n",
        "                penalty += (source_total - source_capacity[s][h]) ** 2  # Penalty for over-supply\n",
        "\n",
        "            # Add cost of supplying this energy\n",
        "            total_cost += sum(chromosome[s, :, h]) * cost_per_unit[s]\n",
        "\n",
        "    # Return negative total cost and penalties as fitness (maximize fitness)\n",
        "    return -np.log1p (total_cost + 10 * penalty)"
      ]
    },
    {
      "cell_type": "code",
      "execution_count": 178,
      "metadata": {
        "id": "OosBgWTVKLOK"
      },
      "outputs": [],
      "source": [
        "# Initialize the population with random chromosomes\n",
        "def initialize_population():\n",
        "    return [create_chromosome() for _ in range(POP_SIZE)]"
      ]
    },
    {
      "cell_type": "code",
      "execution_count": 179,
      "metadata": {
        "id": "I5fwjWMpKNzr"
      },
      "outputs": [],
      "source": [
        "# Select top half of the population based on fitness\n",
        "def selection(pop, fitnesses):\n",
        "    idx = np.argsort(fitnesses)[-POP_SIZE//2:]  # Get indices of best performers\n",
        "    return [pop[i] for i in idx]  # Return selected chromosomes"
      ]
    },
    {
      "cell_type": "code",
      "execution_count": 180,
      "metadata": {
        "id": "llFNIikxKPdK"
      },
      "outputs": [],
      "source": [
        "# Perform crossover between two parents to produce a child\n",
        "def crossover(parent1, parent2):\n",
        "    if np.random.rand() > CROSS_RATE:\n",
        "        return parent1.copy()  # No crossover, return parent\n",
        "    point = np.random.randint(1, HOURS)  # Random crossover point along time axis\n",
        "    child = parent1.copy()\n",
        "    child[:, :, point:] = parent2[:, :, point:]  # Swap the latter part from parent2\n",
        "    return child"
      ]
    },
    {
      "cell_type": "code",
      "execution_count": 181,
      "metadata": {
        "id": "ZfEmSLJZKR76"
      },
      "outputs": [],
      "source": [
        "# Mutate the chromosome by slightly changing a few values\n",
        "def mutate(chromosome):\n",
        "    for _ in range(int(MUT_RATE * NUM_NODES * HOURS)):\n",
        "        s = np.random.randint(NUM_SOURCES)  # Random source\n",
        "        n = np.random.randint(NUM_NODES)  # Random node\n",
        "        h = np.random.randint(HOURS)  # Random hour\n",
        "        # Apply small Gaussian noise and clip to valid range [0, 1]\n",
        "        chromosome[s][n][h] = np.clip(chromosome[s][n][h] + np.random.normal(0, 0.1), 0, 1)\n",
        "    return chromosome"
      ]
    },
    {
      "cell_type": "code",
      "execution_count": 182,
      "metadata": {
        "id": "_pg_JaJSKTvL"
      },
      "outputs": [],
      "source": [
        "# Evaluate the population using either parallel or serial processing\n",
        "def evaluate_population(pop, parallel=True):\n",
        "    if parallel:\n",
        "        with Pool(processes=multiprocessing.cpu_count()) as pool:\n",
        "            return pool.map(evaluate_fitness, pop)  # Parallel fitness computation\n",
        "    else:\n",
        "        return list(map(evaluate_fitness, pop))  # Serial fitness computation"
      ]
    },
    {
      "cell_type": "code",
      "execution_count": 183,
      "metadata": {
        "id": "GVjBIa6wKVYz"
      },
      "outputs": [],
      "source": [
        "# Run the entire genetic algorithm process\n",
        "def run_ga(parallel):\n",
        "    pop = initialize_population()  # Create initial population\n",
        "    best_fitnesses = []  # Store best fitness over generations\n",
        "    start = time.time()  # Start timer\n",
        "\n",
        "    # Evolve for defined number of generations\n",
        "    for gen in range(GENS):\n",
        "        fitnesses = evaluate_population(pop, parallel=parallel)  # Get fitness of all individuals\n",
        "        best_fitnesses.append(max(fitnesses))  # Store best fitness\n",
        "        selected = selection(pop, fitnesses)  # Select best individuals\n",
        "\n",
        "        # Generate new population from selected\n",
        "        new_pop = []\n",
        "        while len(new_pop) < POP_SIZE:\n",
        "            p1, p2 = random.sample(selected, 2)  # Randomly select two parents\n",
        "            child = crossover(p1, p2)  # Create child by crossover\n",
        "            new_pop.append(mutate(child))  # Mutate and add to population\n",
        "\n",
        "        pop = new_pop  # Update population\n",
        "\n",
        "    duration = time.time() - start  # Total execution time\n",
        "    return best_fitnesses, duration"
      ]
    },
    {
      "cell_type": "code",
      "execution_count": 184,
      "metadata": {
        "id": "mcmWaKiPKYD8"
      },
      "outputs": [],
      "source": [
        "# Run GA in parallel mode\n",
        "parallel_result, parallel_time = run_ga(parallel=True)\n",
        "\n",
        "# Run GA in serial mode\n",
        "serial_result, serial_time = run_ga(parallel=False)"
      ]
    },
    {
      "cell_type": "code",
      "execution_count": 185,
      "metadata": {
        "id": "GlGRVDr1KZr7"
      },
      "outputs": [],
      "source": [
        "# Export plots and logs\n",
        "def export_results(parallel_result, serial_result, df_log, all_fitnesses):\n",
        "  # Plot convergence curves\n",
        "  plt.plot(parallel_result, label='Parallel GA')\n",
        "  plt.plot(serial_result, label='Serial GA')\n",
        "  plt.title('GA Convergence')\n",
        "  plt.xlabel('Generation')\n",
        "  plt.ylabel('Best Fitness')\n",
        "  plt.legend()\n",
        "  plt.grid(True)\n",
        "  plt.show()"
      ]
    },
    {
      "cell_type": "code",
      "execution_count": 186,
      "metadata": {
        "colab": {
          "base_uri": "https://localhost:8080/"
        },
        "id": "ILwgO7eiKbDl",
        "outputId": "4aa9721f-9b16-47f6-fb5d-96cd23c929fa"
      },
      "outputs": [
        {
          "output_type": "stream",
          "name": "stdout",
          "text": [
            "Parallel Execution Time: 4.87s\n",
            "Serial Execution Time:   2.49s\n"
          ]
        }
      ],
      "source": [
        "# Print execution times for comparison\n",
        "print(f\"Parallel Execution Time: {parallel_time:.2f}s\")\n",
        "print(f\"Serial Execution Time:   {serial_time:.2f}s\")"
      ]
    },
    {
      "cell_type": "code",
      "execution_count": 187,
      "metadata": {
        "id": "2eu_hmFfLbLr"
      },
      "outputs": [],
      "source": [
        "def run_ga_with_log(parallel=True):\n",
        "\n",
        "    #Runs the Genetic Algorithm and logs the best individual of each generation.\n",
        "    #Returns:\n",
        "    #    - A DataFrame containing generation-wise summary of the best individual.\n",
        "    #    - Total execution time.\n",
        "\n",
        "\n",
        "    pop = initialize_population()  # Create the initial population of chromosomes (random solutions)\n",
        "    log = []  # This list will store the best individual's info per generation\n",
        "    start = time.time()  # Start measuring execution time\n",
        "\n",
        "    # Repeat for the total number of generations\n",
        "    for gen in range(GENS):\n",
        "        # Evaluate the fitness of each individual in the population\n",
        "        fitnesses = evaluate_population(pop, parallel=parallel)\n",
        "\n",
        "        # Identify the best individual based on maximum fitness\n",
        "        best_idx = np.argmax(fitnesses)             # Get index of the best fitness\n",
        "        best_fitness = fitnesses[best_idx]          # Get the actual fitness score\n",
        "        best_individual = pop[best_idx]             # Get the chromosome (solution) itself\n",
        "\n",
        "        # Summarize the best individual's characteristics for logging\n",
        "        summary = {\n",
        "            'Generation': gen + 1,                           # Current generation (starting from 1)\n",
        "            'a': np.mean(best_individual[0]),                # Mean allocation from source 0 (labelled 'a')\n",
        "            'b': np.mean(best_individual[1]),                # Mean allocation from source 1 (labelled 'b')\n",
        "            'c': np.mean(best_individual[2]),                # Mean allocation from source 2 (labelled 'c')\n",
        "            'Fitness': best_fitness                          # Best fitness score in this generation\n",
        "        }\n",
        "        log.append(summary)  # Save the summary to the log list\n",
        "\n",
        "        # --- Generate next generation ---\n",
        "\n",
        "        selected = selection(pop, fitnesses)  # Select the top-performing individuals (elitism/selection)\n",
        "\n",
        "        new_pop = []  # Initialize new population\n",
        "        while len(new_pop) < POP_SIZE:\n",
        "            # Randomly choose two parents from the selected individuals\n",
        "            p1, p2 = random.sample(selected, 2)\n",
        "            child = crossover(p1, p2)          # Generate offspring via crossover\n",
        "            child = mutate(child)              # Apply mutation to introduce diversity\n",
        "            new_pop.append(child)              # Add new child to next generation\n",
        "\n",
        "        pop = new_pop  # Replace current population with the new one\n",
        "\n",
        "    duration = time.time() - start  # Calculate total execution time\n",
        "\n",
        "    # Convert log into a Pandas DataFrame and return with execution time\n",
        "    return pd.DataFrame(log), duration"
      ]
    },
    {
      "cell_type": "code",
      "execution_count": 188,
      "metadata": {
        "colab": {
          "base_uri": "https://localhost:8080/"
        },
        "id": "kleBpPJWLd2d",
        "outputId": "8bf1c9fa-49b5-4106-e2e8-395b36a9d132"
      },
      "outputs": [
        {
          "output_type": "stream",
          "name": "stdout",
          "text": [
            "|   Generation |        a |        b |        c |   Fitness |\n",
            "|--------------|----------|----------|----------|-----------|\n",
            "|            1 | 0.516762 | 0.512911 | 0.514012 |  -17.031  |\n",
            "|            2 | 0.518349 | 0.512532 | 0.516296 |  -17.0309 |\n",
            "|            3 | 0.520672 | 0.536074 | 0.520331 |  -17.0306 |\n",
            "|            4 | 0.516306 | 0.530046 | 0.532875 |  -17.0305 |\n",
            "|            5 | 0.512413 | 0.500466 | 0.557886 |  -17.0303 |\n",
            "|            6 | 0.512605 | 0.500891 | 0.558389 |  -17.0303 |\n",
            "|            7 | 0.551848 | 0.516165 | 0.534236 |  -17.03   |\n",
            "|            8 | 0.550408 | 0.521163 | 0.535769 |  -17.0298 |\n",
            "|            9 | 0.525318 | 0.523014 | 0.559044 |  -17.0299 |\n",
            "|           10 | 0.533462 | 0.525677 | 0.545475 |  -17.03   |\n",
            "|           11 | 0.534715 | 0.519957 | 0.567682 |  -17.0298 |\n",
            "|           12 | 0.533195 | 0.49874  | 0.571427 |  -17.0296 |\n",
            "|           13 | 0.54828  | 0.540263 | 0.536777 |  -17.0293 |\n",
            "|           14 | 0.548929 | 0.518764 | 0.572255 |  -17.0292 |\n",
            "|           15 | 0.550059 | 0.518501 | 0.57239  |  -17.0292 |\n",
            "|           16 | 0.549425 | 0.51652  | 0.571973 |  -17.0293 |\n",
            "|           17 | 0.55011  | 0.518322 | 0.5723   |  -17.0292 |\n",
            "|           18 | 0.550216 | 0.519775 | 0.573234 |  -17.0292 |\n",
            "|           19 | 0.547039 | 0.527299 | 0.566561 |  -17.0291 |\n",
            "|           20 | 0.551941 | 0.523567 | 0.5723   |  -17.029  |\n",
            "|           21 | 0.548798 | 0.525603 | 0.570202 |  -17.0291 |\n",
            "|           22 | 0.553716 | 0.518092 | 0.578697 |  -17.029  |\n",
            "|           23 | 0.550072 | 0.528343 | 0.568329 |  -17.029  |\n",
            "|           24 | 0.553147 | 0.522786 | 0.573571 |  -17.0289 |\n",
            "|           25 | 0.553517 | 0.524358 | 0.573601 |  -17.0289 |\n",
            "|           26 | 0.553452 | 0.523554 | 0.574859 |  -17.0289 |\n",
            "|           27 | 0.546397 | 0.529056 | 0.575324 |  -17.0288 |\n",
            "|           28 | 0.551603 | 0.529652 | 0.571128 |  -17.0288 |\n",
            "|           29 | 0.551476 | 0.529177 | 0.573916 |  -17.0288 |\n",
            "|           30 | 0.553418 | 0.526093 | 0.578163 |  -17.0287 |\n",
            "|           31 | 0.552242 | 0.528524 | 0.581171 |  -17.0286 |\n",
            "|           32 | 0.550636 | 0.527833 | 0.583038 |  -17.0286 |\n",
            "|           33 | 0.552331 | 0.534912 | 0.576859 |  -17.0286 |\n",
            "|           34 | 0.555445 | 0.533405 | 0.578315 |  -17.0285 |\n",
            "|           35 | 0.557509 | 0.535705 | 0.575858 |  -17.0284 |\n",
            "|           36 | 0.558297 | 0.535201 | 0.577223 |  -17.0284 |\n",
            "|           37 | 0.55904  | 0.536052 | 0.580201 |  -17.0283 |\n",
            "|           38 | 0.559534 | 0.536125 | 0.577119 |  -17.0284 |\n",
            "|           39 | 0.559289 | 0.537824 | 0.581771 |  -17.0283 |\n",
            "|           40 | 0.562071 | 0.536117 | 0.579363 |  -17.0283 |\n",
            "|           41 | 0.564789 | 0.538897 | 0.580092 |  -17.0282 |\n",
            "|           42 | 0.562195 | 0.540684 | 0.580392 |  -17.0282 |\n",
            "|           43 | 0.565628 | 0.537161 | 0.580318 |  -17.0282 |\n",
            "|           44 | 0.5663   | 0.534136 | 0.58444  |  -17.0281 |\n",
            "|           45 | 0.567501 | 0.535006 | 0.58376  |  -17.0281 |\n",
            "|           46 | 0.567132 | 0.539595 | 0.584089 |  -17.0281 |\n",
            "|           47 | 0.569553 | 0.533719 | 0.583709 |  -17.0281 |\n",
            "|           48 | 0.567612 | 0.537982 | 0.584421 |  -17.028  |\n",
            "|           49 | 0.570024 | 0.539043 | 0.586845 |  -17.0279 |\n",
            "|           50 | 0.567537 | 0.543586 | 0.590513 |  -17.0278 |\n"
          ]
        }
      ],
      "source": [
        "# Run GA and log best individuals\n",
        "df_log, exec_time = run_ga_with_log(parallel=True)\n",
        "\n",
        "# Display as a clean table\n",
        "\n",
        "print(tabulate(df_log, headers='keys', tablefmt='github', showindex=False))\n"
      ]
    },
    {
      "cell_type": "code",
      "execution_count": 189,
      "metadata": {
        "id": "46315f-mMPV6"
      },
      "outputs": [],
      "source": [
        "def run_ga_with_log_and_tracking(parallel=True):\n",
        "\n",
        "\n",
        "    pop = initialize_population()  # Generate the initial population (random energy allocations)\n",
        "    log = []  # Stores summary of the best individual for each generation\n",
        "    all_fitnesses = []  # Stores complete fitness array per generation (used for plotting)\n",
        "    start = time.time()  # Start execution timer\n",
        "\n",
        "   # Repeat for each generation\n",
        "    for gen in range(GENS):\n",
        "        # Evaluate the fitness of the current population (either in parallel or serial)\n",
        "        fitnesses = evaluate_population(pop, parallel=parallel)\n",
        "\n",
        "        # Save all fitness scores for this generation (used for plotting range later)\n",
        "        all_fitnesses.append(fitnesses)\n",
        "\n",
        "        # Identify the best individual based on fitness\n",
        "        best_idx = np.argmax(fitnesses)        # Index of the best fitness value\n",
        "        best_fitness = fitnesses[best_idx]     # Best fitness score\n",
        "        best_individual = pop[best_idx]        # Best chromosome (energy allocation)\n",
        "\n",
        "        # Create a summary dictionary of best solution characteristics\n",
        "        summary = {\n",
        "            'Generation': gen + 1,                         # Current generation number (1-based)\n",
        "            'a': np.mean(best_individual[0]),              # Average allocation from source 0\n",
        "            'b': np.mean(best_individual[1]),              # Average allocation from source 1\n",
        "            'c': np.mean(best_individual[2]),              # Average allocation from source 2\n",
        "            'Fitness': best_fitness                        # Best fitness score\n",
        "        }\n",
        "        log.append(summary)  # Add the summary to the log list\n",
        "\n",
        "        # Create the next generation\n",
        "        selected = selection(pop, fitnesses)  # Select top individuals (selection strategy)\n",
        "\n",
        "        new_pop = []  # Initialize new population list\n",
        "        while len(new_pop) < POP_SIZE:\n",
        "            p1, p2 = random.sample(selected, 2)  # Select two parents at random from selected pool\n",
        "            child = crossover(p1, p2)            # Perform crossover to generate offspring\n",
        "            child = mutate(child)                # Apply mutation to introduce variation\n",
        "            new_pop.append(child)                # Add the new child to the new population\n",
        "\n",
        "        pop = new_pop  # Replace the old population with the new one\n",
        "\n",
        "    # Record total execution time\n",
        "    duration = time.time() - start\n",
        "\n",
        "    # Return summary DataFrame, all fitness history, and execution time\n",
        "    return pd.DataFrame(log), all_fitnesses, duration"
      ]
    },
    {
      "cell_type": "code",
      "execution_count": 190,
      "metadata": {
        "id": "F8PK7Nw3MJY9"
      },
      "outputs": [],
      "source": [
        "def plot_fitness_range(all_fitnesses):\n",
        "    best_fitness = [max(f) for f in all_fitnesses]\n",
        "    min_fitness = [min(f) for f in all_fitnesses]\n",
        "    max_fitness = [max(f) for f in all_fitnesses]\n",
        "\n",
        "    generations = list(range(1, len(all_fitnesses) + 1))\n",
        "\n",
        "    plt.figure(figsize=(8, 5))\n",
        "    plt.plot(generations, best_fitness, label='Best Fitness', color='black')\n",
        "    plt.fill_between(generations, min_fitness, max_fitness, color='gray', alpha=0.4, label='Fitness Range')\n",
        "\n",
        "    plt.xlabel('Generation')\n",
        "    plt.ylabel('Fitness')\n",
        "    plt.title('Fitness Over Generations')\n",
        "    plt.legend()\n",
        "    plt.grid(True)\n",
        "    plt.show()"
      ]
    },
    {
      "cell_type": "code",
      "execution_count": 191,
      "metadata": {
        "colab": {
          "base_uri": "https://localhost:8080/",
          "height": 487
        },
        "id": "_t42b80AMQm0",
        "outputId": "2dfd9bda-5270-4d3f-c5ec-f6ad793c22ce"
      },
      "outputs": [
        {
          "output_type": "display_data",
          "data": {
            "text/plain": [
              "<Figure size 800x500 with 1 Axes>"
            ],
            "image/png": "[encoded data removed]"
          },
          "metadata": {}
        }
      ],
      "source": [
        "# Run GA\n",
        "df_log, all_fitnesses, exec_time = run_ga_with_log_and_tracking(parallel=True)\n",
        "\n",
        "# Plot fitness range\n",
        "plot_fitness_range(all_fitnesses)"
      ]
    },
    {
      "cell_type": "markdown",
      "metadata": {
        "id": "y-VlpIKdchHO"
      },
      "source": [
        "Greedy Algorithm"
      ]
    },
    {
      "cell_type": "code",
      "execution_count": 192,
      "metadata": {
        "id": "8kAbtuy6bTHH"
      },
      "outputs": [],
      "source": [
        "def greedy_energy_allocation(demand_matrix, source_capacity, cost_per_unit):\n",
        "\n",
        "    start = time.perf_counter() # start measuring executing time\n",
        "    memory = psutil.virtual_memory()\n",
        "\n",
        "    # Initialize an empty allocation matrix to store energy assignments\n",
        "    allocation = np.zeros((NUM_SOURCES, NUM_NODES, HOURS))\n",
        "\n",
        "    # Sort sources by increasing cost per unit, so cheaper sources are used first\n",
        "    sorted_sources = np.argsort(cost_per_unit)\n",
        "\n",
        "    # Loop over each hour in the 24-hour cycle\n",
        "    for h in range(HOURS):\n",
        "        # Loop over each node (energy consumer)\n",
        "        for n in range(NUM_NODES):\n",
        "            remaining_demand = demand_matrix[n][h]  # Retrieve the energy demand of node 'n' at hour 'h'\n",
        "\n",
        "            # Loop through sources in order of increasing cost\n",
        "            for s in sorted_sources:\n",
        "                # Calculate how much energy has already been used from this source at hour 'h'\n",
        "                used_capacity = allocation[s, :, h].sum()\n",
        "\n",
        "                # Determine the remaining capacity of this source at hour 'h'\n",
        "                available = source_capacity[s][h] - used_capacity\n",
        "\n",
        "                # Allocate the minimum between available energy and remaining demand\n",
        "                assigned = min(available, remaining_demand)\n",
        "\n",
        "                # Assign the energy to the node from this source at this hour\n",
        "                allocation[s][n][h] = assigned\n",
        "\n",
        "                # Reduce the remaining demand for the node\n",
        "                remaining_demand -= assigned\n",
        "\n",
        "                # If the demand is fully satisfied, move to the next node\n",
        "                if remaining_demand <= 0:\n",
        "                    break\n",
        "    duration = time.perf_counter() - start  # Total execution time\n",
        "    # Return the completed energy allocation matrix\n",
        "    return allocation, duration"
      ]
    },
    {
      "cell_type": "code",
      "execution_count": 193,
      "metadata": {
        "colab": {
          "base_uri": "https://localhost:8080/"
        },
        "id": "Qf5dT3gZckVN",
        "outputId": "fee0619a-7026-4a80-d273-67063ad5d873"
      },
      "outputs": [
        {
          "output_type": "stream",
          "name": "stdout",
          "text": [
            "Greedy Fitness: -11.02\n",
            "Best GA Fitness: -17.03\n",
            "Greedy Algorithm Runtime: 0.0026708800000960764 seconds\n"
          ]
        }
      ],
      "source": [
        "# Generate greedy allocation\n",
        "greedy_alloc, greedy_time = greedy_energy_allocation(demand_matrix, source_capacity, cost_per_unit)\n",
        "\n",
        "# Evaluate greedy performance using the same fitness function\n",
        "greedy_fitness = evaluate_fitness(greedy_alloc)\n",
        "\n",
        "# Compare to best GA result\n",
        "ga_log, _, _ = run_ga_with_log_and_tracking()\n",
        "ga_best_fitness = ga_log['Fitness'].max()\n",
        "\n",
        "print(f\"Greedy Fitness: {greedy_fitness:.2f}\")\n",
        "print(f\"Best GA Fitness: {ga_best_fitness:.2f}\")\n",
        "print(f\"Greedy Algorithm Runtime: {greedy_time} seconds\")"
      ]
    },
    {
      "cell_type": "markdown",
      "metadata": {
        "id": "Lnf7ZxTOKcsw"
      },
      "source": [
        "CPU Usage Monitoring"
      ]
    },
    {
      "cell_type": "code",
      "execution_count": 194,
      "metadata": {
        "id": "HSQ8NxRFKbzZ"
      },
      "outputs": [],
      "source": [
        "# Monitor CPU Class\n",
        "class CPUMonitor(threading.Thread):\n",
        "    def __init__(self, interval=0.5):\n",
        "        super().__init__()\n",
        "        self.interval = interval\n",
        "        self.usage = []\n",
        "        self.running = True\n",
        "\n",
        "    def run(self):\n",
        "        while self.running:\n",
        "            cpu = psutil.cpu_percent(interval=None)\n",
        "            self.usage.append(cpu)\n",
        "            time.sleep(self.interval)\n",
        "\n",
        "    def stop(self):\n",
        "        self.running = False"
      ]
    },
    {
      "cell_type": "code",
      "execution_count": 195,
      "metadata": {
        "id": "-SXNY_RVKglG"
      },
      "outputs": [],
      "source": [
        "# Start CPU Monitor\n",
        "monitor = CPUMonitor(interval=0.1)  # Faster sampling (every 0.1 sec)\n",
        "monitor.start()\n",
        "\n",
        "# Run your Genetic Algorithm here (serial or parallel)\n",
        "serial_history = run_ga(parallel = False)\n",
        "\n",
        "# Stop CPU Monitor\n",
        "monitor.stop()\n",
        "monitor.join()"
      ]
    },
    {
      "cell_type": "code",
      "source": [
        "cpu_percent = psutil.cpu_percent(interval=1)\n",
        "memory = psutil.virtual_memory()\n",
        "memory_used_mb = (memory.total - memory.available) / 1024**2\n",
        "\n",
        "print(\"Resource Usage:\")\n",
        "print(f\"CPU Usage: {cpu_percent:.1f}%\")\n",
        "print(f\"Memory Usage: {memory_used_mb:.2f} MB\")"
      ],
      "metadata": {
        "colab": {
          "base_uri": "https://localhost:8080/"
        },
        "id": "lENEaKwjfc1h",
        "outputId": "a4988da9-b907-4a8e-bbb6-6104c14b62c0"
      },
      "execution_count": 196,
      "outputs": [
        {
          "output_type": "stream",
          "name": "stdout",
          "text": [
            "Resource Usage:\n",
            "CPU Usage: 3.0%\n",
            "Memory Usage: 1299.46 MB\n"
          ]
        }
      ]
    },
    {
      "cell_type": "code",
      "execution_count": 197,
      "metadata": {
        "colab": {
          "base_uri": "https://localhost:8080/",
          "height": 607
        },
        "id": "gikHQWuwKlEh",
        "outputId": "59a45887-35c7-4e74-d290-efe4c0a2523e"
      },
      "outputs": [
        {
          "output_type": "display_data",
          "data": {
            "text/plain": [
              "<Figure size 1000x600 with 1 Axes>"
            ],
            "image/png": "[encoded data removed]"
          },
          "metadata": {}
        }
      ],
      "source": [
        "# Create time axis for CPU usage\n",
        "cpu_time = [i * monitor.interval for i in range(len(monitor.usage))]\n",
        "\n",
        "fig, ax1 = plt.subplots(figsize=(10,6))\n",
        "\n",
        "# Plot CPU usage\n",
        "ax1.plot(cpu_time, monitor.usage, 'r-', label=\"CPU Usage (%)\")\n",
        "ax1.set_xlabel('Time (s)')\n",
        "ax1.set_ylabel('CPU Usage (%)', color='r')\n",
        "ax1.tick_params(axis='y', labelcolor='r')\n",
        "\n",
        "# Titles and grid\n",
        "plt.title(\"CPU Usage(Serial)\")\n",
        "fig.tight_layout()\n",
        "plt.show()"
      ]
    },
    {
      "cell_type": "code",
      "execution_count": 198,
      "metadata": {
        "colab": {
          "base_uri": "https://localhost:8080/",
          "height": 607
        },
        "id": "mptl1FERyIGo",
        "outputId": "10a5adb7-96fe-4c81-830f-1c720aa6fe54"
      },
      "outputs": [
        {
          "output_type": "display_data",
          "data": {
            "text/plain": [
              "<Figure size 1000x600 with 2 Axes>"
            ],
            "image/png": "[encoded data removed]"
          },
          "metadata": {}
        }
      ],
      "source": [
        "# Create time axis for CPU usage\n",
        "cpu_time = [i * monitor.interval for i in range(len(monitor.usage))]\n",
        "\n",
        "fig, ax1 = plt.subplots(figsize=(10,6))\n",
        "\n",
        "# Plot CPU usage\n",
        "ax1.plot(cpu_time, monitor.usage, 'r-', label=\"CPU Usage (%)\")\n",
        "ax1.set_xlabel('Time (s)')\n",
        "ax1.set_ylabel('CPU Usage (%)', color='r')\n",
        "ax1.tick_params(axis='y', labelcolor='r')\n",
        "\n",
        "# Create second y-axis for fitness\n",
        "ax2 = ax1.twinx()\n",
        "# Extract the fitness history from the serial_history tuple\n",
        "ax2.plot(range(len(serial_history[0])), serial_history[0], 'b-', label=\"Fitness (GA Convergence)\")\n",
        "ax2.set_ylabel('Fitness ', color='b')\n",
        "ax2.tick_params(axis='y', labelcolor='b')\n",
        "\n",
        "# Titles and grid\n",
        "plt.title(\"CPU Usage(Serial)\")\n",
        "fig.tight_layout()\n",
        "plt.show()"
      ]
    },
    {
      "cell_type": "code",
      "execution_count": 199,
      "metadata": {
        "colab": {
          "base_uri": "https://localhost:8080/"
        },
        "id": "8J6rVcHQMZUH",
        "outputId": "be323a4e-2a16-4666-d24e-39644cbd5da2"
      },
      "outputs": [
        {
          "output_type": "stream",
          "name": "stdout",
          "text": [
            "<class 'tuple'>\n",
            "2\n",
            "<class 'list'>\n"
          ]
        }
      ],
      "source": [
        "print(type(serial_history))\n",
        "print(len(serial_history))\n",
        "print(type(serial_history[0]))\n"
      ]
    },
    {
      "cell_type": "code",
      "execution_count": 225,
      "metadata": {
        "id": "GLbzJxEEKuQQ"
      },
      "outputs": [],
      "source": [
        "#For Parallel\n",
        "# Start CPU Monitor\n",
        "monitor = CPUMonitor(interval=0.5)\n",
        "monitor.start()\n",
        "\n",
        "# Run the Genetic Algorithm here\n",
        "parallel_history = run_ga(parallel=True)\n",
        "\n",
        "# Stop CPU Monitor\n",
        "monitor.stop()\n",
        "monitor.join()"
      ]
    },
    {
      "cell_type": "code",
      "source": [
        "cpu_percent = psutil.cpu_percent(interval=1)\n",
        "memory = psutil.virtual_memory()\n",
        "memory_used_mb = (memory.total - memory.available) / 1024**2\n",
        "\n",
        "print(\"Resource Usage:\")\n",
        "print(f\"CPU Usage: {cpu_percent:.1f}%\")\n",
        "print(f\"Memory Usage: {memory_used_mb:.2f} MB\")"
      ],
      "metadata": {
        "colab": {
          "base_uri": "https://localhost:8080/"
        },
        "id": "7x2ywqWtfV7I",
        "outputId": "96e4fcbc-22aa-47e9-fd83-3a20132b13dc"
      },
      "execution_count": 226,
      "outputs": [
        {
          "output_type": "stream",
          "name": "stdout",
          "text": [
            "Resource Usage:\n",
            "CPU Usage: 3.5%\n",
            "Memory Usage: 1387.43 MB\n"
          ]
        }
      ]
    },
    {
      "cell_type": "code",
      "execution_count": 231,
      "metadata": {
        "id": "rKjGaVVuK2uC",
        "colab": {
          "base_uri": "https://localhost:8080/",
          "height": 607
        },
        "outputId": "e2755a3a-239f-4601-8e63-bc5784251f5c"
      },
      "outputs": [
        {
          "output_type": "display_data",
          "data": {
            "text/plain": [
              "<Figure size 1000x600 with 1 Axes>"
            ],
            "image/png": "[encoded data removed]"
          },
          "metadata": {}
        }
      ],
      "source": [
        "# Create time axis for CPU usage\n",
        "cpu_time = [i * monitor.interval for i in range(len(monitor.usage))]\n",
        "\n",
        "fig, ax1 = plt.subplots(figsize=(10,6))\n",
        "\n",
        "# Plot CPU usage\n",
        "ax1.plot(cpu_time, monitor.usage, 'r-', label=\"CPU Usage (%)\")\n",
        "ax1.set_xlabel('Time (s)')\n",
        "ax1.set_ylabel('CPU Usage (%)', color='r')\n",
        "ax1.tick_params(axis='y', labelcolor='r')\n",
        "\n",
        "# Titles and grid\n",
        "plt.title(\"CPU Usage (Parallel)\")\n",
        "fig.tight_layout()\n",
        "plt.show()"
      ]
    },
    {
      "cell_type": "code",
      "source": [
        "# Create time axis for CPU usage\n",
        "cpu_time = [i * monitor.interval for i in range(len(monitor.usage))]\n",
        "\n",
        "fig, ax1 = plt.subplots(figsize=(10,6))\n",
        "\n",
        "# Plot CPU usage\n",
        "ax1.plot(cpu_time, monitor.usage, 'r-', label=\"CPU Usage (%)\")\n",
        "ax1.set_xlabel('Time (s)')\n",
        "ax1.set_ylabel('CPU Usage (%)', color='r')\n",
        "ax1.tick_params(axis='y', labelcolor='r')\n",
        "\n",
        "# Create second y-axis for fitness\n",
        "ax2 = ax1.twinx()\n",
        "# Extract the fitness history from the parallel_history tuple\n",
        "ax2.plot(range(len(parallel_history[0])), parallel_history[0], 'b-', label=\"Fitness (GA Convergence)\")\n",
        "ax2.set_ylabel('Fitness', color='b')\n",
        "ax2.tick_params(axis='y', labelcolor='b')\n",
        "\n",
        "# Titles and grid\n",
        "plt.title(\"CPU Usage (Parallel)\")\n",
        "fig.tight_layout()\n",
        "plt.show()"
      ],
      "metadata": {
        "colab": {
          "base_uri": "https://localhost:8080/",
          "height": 607
        },
        "id": "7RGLzv_rWRsG",
        "outputId": "0e24a77a-f476-4a3a-8749-9c6de5741891"
      },
      "execution_count": 230,
      "outputs": [
        {
          "output_type": "display_data",
          "data": {
            "text/plain": [
              "<Figure size 1000x600 with 2 Axes>"
            ],
            "image/png": "[encoded data removed]"
          },
          "metadata": {}
        }
      ]
    },
    {
      "cell_type": "markdown",
      "source": [
        "For greedy"
      ],
      "metadata": {
        "id": "xNxlfy3mbZzZ"
      }
    },
    {
      "cell_type": "code",
      "source": [
        "# Record CPU times before running greedy\n",
        "cpu_start = psutil.cpu_times_percent(interval=None)\n",
        "start_time = time.perf_counter()\n",
        "\n",
        "# Run greedy algorithm\n",
        "result = greedy_energy_allocation(demand_matrix, source_capacity, cost_per_unit)\n",
        "\n",
        "end_time = time.perf_counter()\n",
        "cpu_end = psutil.cpu_times_percent(interval=None)\n",
        "\n",
        "# Calculate actual runtime\n",
        "greedy_time = end_time - start_time\n",
        "\n",
        "print(f\"Greedy Runtime: {greedy_time:.6f} seconds\")\n",
        "\n",
        "# CPU usage estimate based on user/system time\n",
        "cpu_usage_est = 100 - cpu_end.idle\n",
        "print(f\"Estimated CPU Usage During Greedy: {cpu_usage_est:.2f}%\")\n",
        "# Stop CPU Monitor\n",
        "monitor.stop()\n",
        "monitor.join()"
      ],
      "metadata": {
        "colab": {
          "base_uri": "https://localhost:8080/"
        },
        "id": "Cm-uZ1GFGnrd",
        "outputId": "678ca81f-45b8-4b45-f710-c79d4bbc1407"
      },
      "execution_count": 212,
      "outputs": [
        {
          "output_type": "stream",
          "name": "stdout",
          "text": [
            "Greedy Runtime: 0.003849 seconds\n",
            "Estimated CPU Usage During Greedy: 99.00%\n"
          ]
        }
      ]
    },
    {
      "cell_type": "code",
      "source": [
        "# Simulated time in milliseconds\n",
        "time_ms = np.linspace(0, 3.5, 10)  # Simulates 10 time points over 3.5 ms\n",
        "cpu_usage = np.full_like(time_ms, cpu_usage_est)\n",
        "\n",
        "# Plotting\n",
        "plt.figure(figsize=(10, 5))\n",
        "plt.plot(time_ms, cpu_usage, color='red', linewidth=2)\n",
        "plt.title(\"CPU Usage During Greedy Algorithm Execution\")\n",
        "plt.xlabel(\"Time (ms)\")\n",
        "plt.ylabel(\"CPU Usage (%)\")\n",
        "plt.ylim(0, 110)\n",
        "plt.tight_layout()\n",
        "plt.show()"
      ],
      "metadata": {
        "colab": {
          "base_uri": "https://localhost:8080/",
          "height": 507
        },
        "id": "XtwuQnX3HyQT",
        "outputId": "54156990-0a39-4936-a31a-9d607e541090"
      },
      "execution_count": 236,
      "outputs": [
        {
          "output_type": "display_data",
          "data": {
            "text/plain": [
              "<Figure size 1000x500 with 1 Axes>"
            ],
            "image/png": "[encoded data removed]"
          },
          "metadata": {}
        }
      ]
    },
    {
      "cell_type": "code",
      "source": [
        "time_ms = np.linspace(0, 3.5, 10)\n",
        "cpu_usage = np.full_like(time_ms, cpu_usage_est)\n",
        "\n",
        "# Simulated fitness improvement toward best greedy result (-11.02)\n",
        "fitness = np.linspace(-20, -11.02, len(time_ms))\n",
        "\n",
        "# Create the plot\n",
        "fig, ax1 = plt.subplots(figsize=(10, 5))\n",
        "\n",
        "# Plot CPU usage on left y-axis\n",
        "ax1.plot(time_ms, cpu_usage, 'r', label='CPU Usage (%)')\n",
        "ax1.set_xlabel('Time (ms)')\n",
        "ax1.set_ylabel('CPU Usage (%)', color='r')\n",
        "ax1.tick_params(axis='y', labelcolor='r')\n",
        "\n",
        "# Plot fitness on right y-axis\n",
        "ax2 = ax1.twinx()\n",
        "ax2.plot(time_ms, fitness, 'b-', label='Fitness (Greedy)', linewidth=2)\n",
        "ax2.set_ylabel('Fitness', color='b')\n",
        "ax2.tick_params(axis='y', labelcolor='b')\n",
        "\n",
        "# Titles and layout\n",
        "plt.title(\"Greedy Algorithm: CPU Usage vs. Fitness Over Time\")\n",
        "fig.tight_layout()\n",
        "plt.show()"
      ],
      "metadata": {
        "colab": {
          "base_uri": "https://localhost:8080/",
          "height": 507
        },
        "id": "AzeJ2W3CIKOd",
        "outputId": "cc88b868-e9e7-40c5-a462-c7d4c07fc83b"
      },
      "execution_count": 238,
      "outputs": [
        {
          "output_type": "display_data",
          "data": {
            "text/plain": [
              "<Figure size 1000x500 with 2 Axes>"
            ],
            "image/png": "[encoded data removed]"
          },
          "metadata": {}
        }
      ]
    },
    {
      "cell_type": "code",
      "source": [
        "# Runtime Comparison\n",
        "\n",
        "print(\"Runtime Comparison (in seconds):\")\n",
        "print(f\"Parallel GA Runtime: {parallel_time:.2f}\")\n",
        "print(f\"Serial GA Runtime:   {serial_time:.2f}\")\n",
        "print(f\"Greedy Algorithm Runtime:   {greedy_time:.6f}\")\n"
      ],
      "metadata": {
        "colab": {
          "base_uri": "https://localhost:8080/"
        },
        "id": "h0wD3w0_ba3Z",
        "outputId": "8601f0cc-f4bf-4630-f083-01f09cb751c7"
      },
      "execution_count": 239,
      "outputs": [
        {
          "output_type": "stream",
          "name": "stdout",
          "text": [
            "Runtime Comparison (in seconds):\n",
            "Parallel GA Runtime: 4.87\n",
            "Serial GA Runtime:   2.49\n",
            "Greedy Algorithm Runtime:   0.003849\n"
          ]
        }
      ]
    },
    {
      "cell_type": "markdown",
      "metadata": {
        "id": "ad8fb232"
      },
      "source": [
        "Analyze trade-offs between convergence speed and solution quality under different\n",
        "parameter settings (e.g., population size, mutation rate)."
      ]
    },
    {
      "cell_type": "code",
      "execution_count": 207,
      "metadata": {
        "id": "096b055c"
      },
      "outputs": [],
      "source": [
        "# Define various parameter variations\n",
        "parameter_variations = [\n",
        "    {\"POP_SIZE\": 20, \"GENS\": 50, \"MUT_RATE\": 0.1, \"CROSS_RATE\": 0.7},  # Current\n",
        "    {\"POP_SIZE\": 50, \"GENS\": 50, \"MUT_RATE\": 0.1, \"CROSS_RATE\": 0.7},  # Larger population\n",
        "    {\"POP_SIZE\": 20, \"GENS\": 100, \"MUT_RATE\": 0.1, \"CROSS_RATE\": 0.7}, # More generations\n",
        "    {\"POP_SIZE\": 20, \"GENS\": 50, \"MUT_RATE\": 0.2, \"CROSS_RATE\": 0.7},  # Higher mutation rate\n",
        "    {\"POP_SIZE\": 20, \"GENS\": 50, \"MUT_RATE\": 0.1, \"CROSS_RATE\": 0.9}   # Higher crossover rate\n",
        "]"
      ]
    },
    {
      "cell_type": "code",
      "execution_count": 169,
      "metadata": {
        "id": "2807ade0"
      },
      "outputs": [],
      "source": [
        "# Initialize lists to store results\n",
        "all_results = []\n",
        "all_exec_times = []\n",
        "\n",
        "# Iterate through parameter variations\n",
        "for params in parameter_variations:\n",
        "    # Dynamically update global variables\n",
        "    globals()['POP_SIZE'] = params['POP_SIZE']\n",
        "    globals()['GENS'] = params['GENS']\n",
        "    globals()['MUT_RATE'] = params['MUT_RATE']\n",
        "    globals()['CROSS_RATE'] = params['CROSS_RATE']\n",
        "\n",
        "    # Run the GA with updated parameters\n",
        "    df_log, all_fitnesses, exec_time = run_ga_with_log_and_tracking(parallel=True)\n",
        "\n",
        "    # Store the results\n",
        "    all_results.append({'params': params, 'df_log': df_log, 'all_fitnesses': all_fitnesses})\n",
        "    all_exec_times.append({'params': params, 'exec_time': exec_time})\n"
      ]
    },
    {
      "cell_type": "markdown",
      "metadata": {
        "id": "eKruZbWNaIxt"
      },
      "source": [
        "Collect and store results from the genetic algorithm runs for each parameter variation."
      ]
    },
    {
      "cell_type": "code",
      "execution_count": 170,
      "metadata": {
        "colab": {
          "base_uri": "https://localhost:8080/",
          "height": 315
        },
        "id": "edaa076c",
        "outputId": "b6137993-c76d-4f59-8932-4b7ca68f1277"
      },
      "outputs": [
        {
          "output_type": "stream",
          "name": "stdout",
          "text": [
            "Execution times for each parameter combination:\n",
            "Parameters: {'POP_SIZE': 20, 'GENS': 50, 'MUT_RATE': 0.1, 'CROSS_RATE': 0.7}, Execution Time: 5.68s\n",
            "Parameters: {'POP_SIZE': 50, 'GENS': 50, 'MUT_RATE': 0.1, 'CROSS_RATE': 0.7}, Execution Time: 6.93s\n",
            "Parameters: {'POP_SIZE': 20, 'GENS': 100, 'MUT_RATE': 0.1, 'CROSS_RATE': 0.7}, Execution Time: 12.18s\n",
            "Parameters: {'POP_SIZE': 20, 'GENS': 50, 'MUT_RATE': 0.2, 'CROSS_RATE': 0.7}, Execution Time: 6.13s\n",
            "Parameters: {'POP_SIZE': 20, 'GENS': 50, 'MUT_RATE': 0.1, 'CROSS_RATE': 0.9}, Execution Time: 4.47s\n"
          ]
        },
        {
          "output_type": "execute_result",
          "data": {
            "text/plain": [
              "                                          params_str  exec_time\n",
              "0  POP_SIZE:20, GENS:50, MUT_RATE:0.1, CROSS_RATE...   5.684106\n",
              "1  POP_SIZE:50, GENS:50, MUT_RATE:0.1, CROSS_RATE...   6.931285\n",
              "2  POP_SIZE:20, GENS:100, MUT_RATE:0.1, CROSS_RAT...  12.182629\n",
              "3  POP_SIZE:20, GENS:50, MUT_RATE:0.2, CROSS_RATE...   6.128141\n",
              "4  POP_SIZE:20, GENS:50, MUT_RATE:0.1, CROSS_RATE...   4.472239"
            ],
            "text/html": [
              "\n",
              "  <div id=\"df-b5a8d4c3-d258-4c21-92ce-65ae80b62777\" class=\"colab-df-container\">\n",
              "    <div>\n",
              "<style scoped>\n",
              "    .dataframe tbody tr th:only-of-type {\n",
              "        vertical-align: middle;\n",
              "    }\n",
              "\n",
              "    .dataframe tbody tr th {\n",
              "        vertical-align: top;\n",
              "    }\n",
              "\n",
              "    .dataframe thead th {\n",
              "        text-align: right;\n",
              "    }\n",
              "</style>\n",
              "<table border=\"1\" class=\"dataframe\">\n",
              "  <thead>\n",
              "    <tr style=\"text-align: right;\">\n",
              "      <th></th>\n",
              "      <th>params_str</th>\n",
              "      <th>exec_time</th>\n",
              "    </tr>\n",
              "  </thead>\n",
              "  <tbody>\n",
              "    <tr>\n",
              "      <th>0</th>\n",
              "      <td>POP_SIZE:20, GENS:50, MUT_RATE:0.1, CROSS_RATE...</td>\n",
              "      <td>5.684106</td>\n",
              "    </tr>\n",
              "    <tr>\n",
              "      <th>1</th>\n",
              "      <td>POP_SIZE:50, GENS:50, MUT_RATE:0.1, CROSS_RATE...</td>\n",
              "      <td>6.931285</td>\n",
              "    </tr>\n",
              "    <tr>\n",
              "      <th>2</th>\n",
              "      <td>POP_SIZE:20, GENS:100, MUT_RATE:0.1, CROSS_RAT...</td>\n",
              "      <td>12.182629</td>\n",
              "    </tr>\n",
              "    <tr>\n",
              "      <th>3</th>\n",
              "      <td>POP_SIZE:20, GENS:50, MUT_RATE:0.2, CROSS_RATE...</td>\n",
              "      <td>6.128141</td>\n",
              "    </tr>\n",
              "    <tr>\n",
              "      <th>4</th>\n",
              "      <td>POP_SIZE:20, GENS:50, MUT_RATE:0.1, CROSS_RATE...</td>\n",
              "      <td>4.472239</td>\n",
              "    </tr>\n",
              "  </tbody>\n",
              "</table>\n",
              "</div>\n",
              "    <div class=\"colab-df-buttons\">\n",
              "\n",
              "  <div class=\"colab-df-container\">\n",
              "    <button class=\"colab-df-convert\" onclick=\"convertToInteractive('df-b5a8d4c3-d258-4c21-92ce-65ae80b62777')\"\n",
              "            title=\"Convert this dataframe to an interactive table.\"\n",
              "            style=\"display:none;\">\n",
              "\n",
              "  <svg xmlns=\"http://www.w3.org/2000/svg\" height=\"24px\" viewBox=\"0 -960 960 960\">\n",
              "    <path d=\"M120-120v-720h720v720H120Zm60-500h600v-160H180v160Zm220 220h160v-160H400v160Zm0 220h160v-160H400v160ZM180-400h160v-160H180v160Zm440 0h160v-160H620v160ZM180-180h160v-160H180v160Zm440 0h160v-160H620v160Z\"/>\n",
              "  </svg>\n",
              "    </button>\n",
              "\n",
              "  <style>\n",
              "    .colab-df-container {\n",
              "      display:flex;\n",
              "      gap: 12px;\n",
              "    }\n",
              "\n",
              "    .colab-df-convert {\n",
              "      background-color: #E8F0FE;\n",
              "      border: none;\n",
              "      border-radius: 50%;\n",
              "      cursor: pointer;\n",
              "      display: none;\n",
              "      fill: #1967D2;\n",
              "      height: 32px;\n",
              "      padding: 0 0 0 0;\n",
              "      width: 32px;\n",
              "    }\n",
              "\n",
              "    .colab-df-convert:hover {\n",
              "      background-color: #E2EBFA;\n",
              "      box-shadow: 0px 1px 2px rgba(60, 64, 67, 0.3), 0px 1px 3px 1px rgba(60, 64, 67, 0.15);\n",
              "      fill: #174EA6;\n",
              "    }\n",
              "\n",
              "    .colab-df-buttons div {\n",
              "      margin-bottom: 4px;\n",
              "    }\n",
              "\n",
              "    [theme=dark] .colab-df-convert {\n",
              "      background-color: #3B4455;\n",
              "      fill: #D2E3FC;\n",
              "    }\n",
              "\n",
              "    [theme=dark] .colab-df-convert:hover {\n",
              "      background-color: #434B5C;\n",
              "      box-shadow: 0px 1px 3px 1px rgba(0, 0, 0, 0.15);\n",
              "      filter: drop-shadow(0px 1px 2px rgba(0, 0, 0, 0.3));\n",
              "      fill: #FFFFFF;\n",
              "    }\n",
              "  </style>\n",
              "\n",
              "    <script>\n",
              "      const buttonEl =\n",
              "        document.querySelector('#df-b5a8d4c3-d258-4c21-92ce-65ae80b62777 button.colab-df-convert');\n",
              "      buttonEl.style.display =\n",
              "        google.colab.kernel.accessAllowed ? 'block' : 'none';\n",
              "\n",
              "      async function convertToInteractive(key) {\n",
              "        const element = document.querySelector('#df-b5a8d4c3-d258-4c21-92ce-65ae80b62777');\n",
              "        const dataTable =\n",
              "          await google.colab.kernel.invokeFunction('convertToInteractive',\n",
              "                                                    [key], {});\n",
              "        if (!dataTable) return;\n",
              "\n",
              "        const docLinkHtml = 'Like what you see? Visit the ' +\n",
              "          '<a target=\"_blank\" href=https://colab.research.google.com/notebooks/data_table.ipynb>data table notebook</a>'\n",
              "          + ' to learn more about interactive tables.';\n",
              "        element.innerHTML = '';\n",
              "        dataTable['output_type'] = 'display_data';\n",
              "        await google.colab.output.renderOutput(dataTable, element);\n",
              "        const docLink = document.createElement('div');\n",
              "        docLink.innerHTML = docLinkHtml;\n",
              "        element.appendChild(docLink);\n",
              "      }\n",
              "    </script>\n",
              "  </div>\n",
              "\n",
              "\n",
              "    <div id=\"df-c0523969-f6a6-42b6-8ea7-f90192ded058\">\n",
              "      <button class=\"colab-df-quickchart\" onclick=\"quickchart('df-c0523969-f6a6-42b6-8ea7-f90192ded058')\"\n",
              "                title=\"Suggest charts\"\n",
              "                style=\"display:none;\">\n",
              "\n",
              "<svg xmlns=\"http://www.w3.org/2000/svg\" height=\"24px\"viewBox=\"0 0 24 24\"\n",
              "     width=\"24px\">\n",
              "    <g>\n",
              "        <path d=\"M19 3H5c-1.1 0-2 .9-2 2v14c0 1.1.9 2 2 2h14c1.1 0 2-.9 2-2V5c0-1.1-.9-2-2-2zM9 17H7v-7h2v7zm4 0h-2V7h2v10zm4 0h-2v-4h2v4z\"/>\n",
              "    </g>\n",
              "</svg>\n",
              "      </button>\n",
              "\n",
              "<style>\n",
              "  .colab-df-quickchart {\n",
              "      --bg-color: #E8F0FE;\n",
              "      --fill-color: #1967D2;\n",
              "      --hover-bg-color: #E2EBFA;\n",
              "      --hover-fill-color: #174EA6;\n",
              "      --disabled-fill-color: #AAA;\n",
              "      --disabled-bg-color: #DDD;\n",
              "  }\n",
              "\n",
              "  [theme=dark] .colab-df-quickchart {\n",
              "      --bg-color: #3B4455;\n",
              "      --fill-color: #D2E3FC;\n",
              "      --hover-bg-color: #434B5C;\n",
              "      --hover-fill-color: #FFFFFF;\n",
              "      --disabled-bg-color: #3B4455;\n",
              "      --disabled-fill-color: #666;\n",
              "  }\n",
              "\n",
              "  .colab-df-quickchart {\n",
              "    background-color: var(--bg-color);\n",
              "    border: none;\n",
              "    border-radius: 50%;\n",
              "    cursor: pointer;\n",
              "    display: none;\n",
              "    fill: var(--fill-color);\n",
              "    height: 32px;\n",
              "    padding: 0;\n",
              "    width: 32px;\n",
              "  }\n",
              "\n",
              "  .colab-df-quickchart:hover {\n",
              "    background-color: var(--hover-bg-color);\n",
              "    box-shadow: 0 1px 2px rgba(60, 64, 67, 0.3), 0 1px 3px 1px rgba(60, 64, 67, 0.15);\n",
              "    fill: var(--button-hover-fill-color);\n",
              "  }\n",
              "\n",
              "  .colab-df-quickchart-complete:disabled,\n",
              "  .colab-df-quickchart-complete:disabled:hover {\n",
              "    background-color: var(--disabled-bg-color);\n",
              "    fill: var(--disabled-fill-color);\n",
              "    box-shadow: none;\n",
              "  }\n",
              "\n",
              "  .colab-df-spinner {\n",
              "    border: 2px solid var(--fill-color);\n",
              "    border-color: transparent;\n",
              "    border-bottom-color: var(--fill-color);\n",
              "    animation:\n",
              "      spin 1s steps(1) infinite;\n",
              "  }\n",
              "\n",
              "  @keyframes spin {\n",
              "    0% {\n",
              "      border-color: transparent;\n",
              "      border-bottom-color: var(--fill-color);\n",
              "      border-left-color: var(--fill-color);\n",
              "    }\n",
              "    20% {\n",
              "      border-color: transparent;\n",
              "      border-left-color: var(--fill-color);\n",
              "      border-top-color: var(--fill-color);\n",
              "    }\n",
              "    30% {\n",
              "      border-color: transparent;\n",
              "      border-left-color: var(--fill-color);\n",
              "      border-top-color: var(--fill-color);\n",
              "      border-right-color: var(--fill-color);\n",
              "    }\n",
              "    40% {\n",
              "      border-color: transparent;\n",
              "      border-right-color: var(--fill-color);\n",
              "      border-top-color: var(--fill-color);\n",
              "    }\n",
              "    60% {\n",
              "      border-color: transparent;\n",
              "      border-right-color: var(--fill-color);\n",
              "    }\n",
              "    80% {\n",
              "      border-color: transparent;\n",
              "      border-right-color: var(--fill-color);\n",
              "      border-bottom-color: var(--fill-color);\n",
              "    }\n",
              "    90% {\n",
              "      border-color: transparent;\n",
              "      border-bottom-color: var(--fill-color);\n",
              "    }\n",
              "  }\n",
              "</style>\n",
              "\n",
              "      <script>\n",
              "        async function quickchart(key) {\n",
              "          const quickchartButtonEl =\n",
              "            document.querySelector('#' + key + ' button');\n",
              "          quickchartButtonEl.disabled = true;  // To prevent multiple clicks.\n",
              "          quickchartButtonEl.classList.add('colab-df-spinner');\n",
              "          try {\n",
              "            const charts = await google.colab.kernel.invokeFunction(\n",
              "                'suggestCharts', [key], {});\n",
              "          } catch (error) {\n",
              "            console.error('Error during call to suggestCharts:', error);\n",
              "          }\n",
              "          quickchartButtonEl.classList.remove('colab-df-spinner');\n",
              "          quickchartButtonEl.classList.add('colab-df-quickchart-complete');\n",
              "        }\n",
              "        (() => {\n",
              "          let quickchartButtonEl =\n",
              "            document.querySelector('#df-c0523969-f6a6-42b6-8ea7-f90192ded058 button');\n",
              "          quickchartButtonEl.style.display =\n",
              "            google.colab.kernel.accessAllowed ? 'block' : 'none';\n",
              "        })();\n",
              "      </script>\n",
              "    </div>\n",
              "\n",
              "    </div>\n",
              "  </div>\n"
            ],
            "application/vnd.google.colaboratory.intrinsic+json": {
              "type": "dataframe",
              "summary": "{\n  \"name\": \"exec_time_df[['params_str', 'exec_time']]\",\n  \"rows\": 5,\n  \"fields\": [\n    {\n      \"column\": \"params_str\",\n      \"properties\": {\n        \"dtype\": \"string\",\n        \"num_unique_values\": 5,\n        \"samples\": [\n          \"POP_SIZE:50, GENS:50, MUT_RATE:0.1, CROSS_RATE:0.7\",\n          \"POP_SIZE:20, GENS:50, MUT_RATE:0.1, CROSS_RATE:0.9\",\n          \"POP_SIZE:20, GENS:100, MUT_RATE:0.1, CROSS_RATE:0.7\"\n        ],\n        \"semantic_type\": \"\",\n        \"description\": \"\"\n      }\n    },\n    {\n      \"column\": \"exec_time\",\n      \"properties\": {\n        \"dtype\": \"number\",\n        \"std\": 2.988055974298322,\n        \"min\": 4.472238540649414,\n        \"max\": 12.182629108428955,\n        \"num_unique_values\": 5,\n        \"samples\": [\n          6.93128514289856,\n          4.472238540649414,\n          12.182629108428955\n        ],\n        \"semantic_type\": \"\",\n        \"description\": \"\"\n      }\n    }\n  ]\n}"
            }
          },
          "metadata": {},
          "execution_count": 170
        }
      ],
      "source": [
        "print(\"Execution times for each parameter combination:\")\n",
        "for item in all_exec_times:\n",
        "    print(f\"Parameters: {item['params']}, Execution Time: {item['exec_time']:.2f}s\")\n",
        "\n",
        "# Create a DataFrame to display results\n",
        "exec_time_df = pd.DataFrame(all_exec_times)\n",
        "exec_time_df['params_str'] = exec_time_df['params'].apply(lambda x: ', '.join([f\"{k}:{v}\" for k, v in x.items()]))\n",
        "\n",
        "exec_time_df[['params_str', 'exec_time']].head()\n"
      ]
    },
    {
      "cell_type": "markdown",
      "metadata": {
        "id": "50d80f32"
      },
      "source": [
        "Analyze solution quality\n"
      ]
    },
    {
      "cell_type": "code",
      "execution_count": 171,
      "metadata": {
        "colab": {
          "base_uri": "https://localhost:8080/",
          "height": 224
        },
        "id": "c4d75266",
        "outputId": "b4b88292-9926-431d-a781-1e9903ab05b2"
      },
      "outputs": [
        {
          "output_type": "stream",
          "name": "stdout",
          "text": [
            "Final Best Fitness for each parameter combination:\n"
          ]
        },
        {
          "output_type": "display_data",
          "data": {
            "text/plain": [
              "                                          params_str  Final_Best_Fitness\n",
              "0  POP_SIZE:20, GENS:50, MUT_RATE:0.1, CROSS_RATE...          -17.027953\n",
              "1  POP_SIZE:50, GENS:50, MUT_RATE:0.1, CROSS_RATE...          -17.026491\n",
              "2  POP_SIZE:20, GENS:100, MUT_RATE:0.1, CROSS_RAT...          -17.025860\n",
              "3  POP_SIZE:20, GENS:50, MUT_RATE:0.2, CROSS_RATE...          -17.027198\n",
              "4  POP_SIZE:20, GENS:50, MUT_RATE:0.1, CROSS_RATE...          -17.027935"
            ],
            "text/html": [
              "\n",
              "  <div id=\"df-61402b03-224d-453d-b503-56db5b5eaa82\" class=\"colab-df-container\">\n",
              "    <div>\n",
              "<style scoped>\n",
              "    .dataframe tbody tr th:only-of-type {\n",
              "        vertical-align: middle;\n",
              "    }\n",
              "\n",
              "    .dataframe tbody tr th {\n",
              "        vertical-align: top;\n",
              "    }\n",
              "\n",
              "    .dataframe thead th {\n",
              "        text-align: right;\n",
              "    }\n",
              "</style>\n",
              "<table border=\"1\" class=\"dataframe\">\n",
              "  <thead>\n",
              "    <tr style=\"text-align: right;\">\n",
              "      <th></th>\n",
              "      <th>params_str</th>\n",
              "      <th>Final_Best_Fitness</th>\n",
              "    </tr>\n",
              "  </thead>\n",
              "  <tbody>\n",
              "    <tr>\n",
              "      <th>0</th>\n",
              "      <td>POP_SIZE:20, GENS:50, MUT_RATE:0.1, CROSS_RATE...</td>\n",
              "      <td>-17.027953</td>\n",
              "    </tr>\n",
              "    <tr>\n",
              "      <th>1</th>\n",
              "      <td>POP_SIZE:50, GENS:50, MUT_RATE:0.1, CROSS_RATE...</td>\n",
              "      <td>-17.026491</td>\n",
              "    </tr>\n",
              "    <tr>\n",
              "      <th>2</th>\n",
              "      <td>POP_SIZE:20, GENS:100, MUT_RATE:0.1, CROSS_RAT...</td>\n",
              "      <td>-17.025860</td>\n",
              "    </tr>\n",
              "    <tr>\n",
              "      <th>3</th>\n",
              "      <td>POP_SIZE:20, GENS:50, MUT_RATE:0.2, CROSS_RATE...</td>\n",
              "      <td>-17.027198</td>\n",
              "    </tr>\n",
              "    <tr>\n",
              "      <th>4</th>\n",
              "      <td>POP_SIZE:20, GENS:50, MUT_RATE:0.1, CROSS_RATE...</td>\n",
              "      <td>-17.027935</td>\n",
              "    </tr>\n",
              "  </tbody>\n",
              "</table>\n",
              "</div>\n",
              "    <div class=\"colab-df-buttons\">\n",
              "\n",
              "  <div class=\"colab-df-container\">\n",
              "    <button class=\"colab-df-convert\" onclick=\"convertToInteractive('df-61402b03-224d-453d-b503-56db5b5eaa82')\"\n",
              "            title=\"Convert this dataframe to an interactive table.\"\n",
              "            style=\"display:none;\">\n",
              "\n",
              "  <svg xmlns=\"http://www.w3.org/2000/svg\" height=\"24px\" viewBox=\"0 -960 960 960\">\n",
              "    <path d=\"M120-120v-720h720v720H120Zm60-500h600v-160H180v160Zm220 220h160v-160H400v160Zm0 220h160v-160H400v160ZM180-400h160v-160H180v160Zm440 0h160v-160H620v160ZM180-180h160v-160H180v160Zm440 0h160v-160H620v160Z\"/>\n",
              "  </svg>\n",
              "    </button>\n",
              "\n",
              "  <style>\n",
              "    .colab-df-container {\n",
              "      display:flex;\n",
              "      gap: 12px;\n",
              "    }\n",
              "\n",
              "    .colab-df-convert {\n",
              "      background-color: #E8F0FE;\n",
              "      border: none;\n",
              "      border-radius: 50%;\n",
              "      cursor: pointer;\n",
              "      display: none;\n",
              "      fill: #1967D2;\n",
              "      height: 32px;\n",
              "      padding: 0 0 0 0;\n",
              "      width: 32px;\n",
              "    }\n",
              "\n",
              "    .colab-df-convert:hover {\n",
              "      background-color: #E2EBFA;\n",
              "      box-shadow: 0px 1px 2px rgba(60, 64, 67, 0.3), 0px 1px 3px 1px rgba(60, 64, 67, 0.15);\n",
              "      fill: #174EA6;\n",
              "    }\n",
              "\n",
              "    .colab-df-buttons div {\n",
              "      margin-bottom: 4px;\n",
              "    }\n",
              "\n",
              "    [theme=dark] .colab-df-convert {\n",
              "      background-color: #3B4455;\n",
              "      fill: #D2E3FC;\n",
              "    }\n",
              "\n",
              "    [theme=dark] .colab-df-convert:hover {\n",
              "      background-color: #434B5C;\n",
              "      box-shadow: 0px 1px 3px 1px rgba(0, 0, 0, 0.15);\n",
              "      filter: drop-shadow(0px 1px 2px rgba(0, 0, 0, 0.3));\n",
              "      fill: #FFFFFF;\n",
              "    }\n",
              "  </style>\n",
              "\n",
              "    <script>\n",
              "      const buttonEl =\n",
              "        document.querySelector('#df-61402b03-224d-453d-b503-56db5b5eaa82 button.colab-df-convert');\n",
              "      buttonEl.style.display =\n",
              "        google.colab.kernel.accessAllowed ? 'block' : 'none';\n",
              "\n",
              "      async function convertToInteractive(key) {\n",
              "        const element = document.querySelector('#df-61402b03-224d-453d-b503-56db5b5eaa82');\n",
              "        const dataTable =\n",
              "          await google.colab.kernel.invokeFunction('convertToInteractive',\n",
              "                                                    [key], {});\n",
              "        if (!dataTable) return;\n",
              "\n",
              "        const docLinkHtml = 'Like what you see? Visit the ' +\n",
              "          '<a target=\"_blank\" href=https://colab.research.google.com/notebooks/data_table.ipynb>data table notebook</a>'\n",
              "          + ' to learn more about interactive tables.';\n",
              "        element.innerHTML = '';\n",
              "        dataTable['output_type'] = 'display_data';\n",
              "        await google.colab.output.renderOutput(dataTable, element);\n",
              "        const docLink = document.createElement('div');\n",
              "        docLink.innerHTML = docLinkHtml;\n",
              "        element.appendChild(docLink);\n",
              "      }\n",
              "    </script>\n",
              "  </div>\n",
              "\n",
              "\n",
              "    <div id=\"df-05a6b75c-fd73-47da-a741-746ecfa04bd1\">\n",
              "      <button class=\"colab-df-quickchart\" onclick=\"quickchart('df-05a6b75c-fd73-47da-a741-746ecfa04bd1')\"\n",
              "                title=\"Suggest charts\"\n",
              "                style=\"display:none;\">\n",
              "\n",
              "<svg xmlns=\"http://www.w3.org/2000/svg\" height=\"24px\"viewBox=\"0 0 24 24\"\n",
              "     width=\"24px\">\n",
              "    <g>\n",
              "        <path d=\"M19 3H5c-1.1 0-2 .9-2 2v14c0 1.1.9 2 2 2h14c1.1 0 2-.9 2-2V5c0-1.1-.9-2-2-2zM9 17H7v-7h2v7zm4 0h-2V7h2v10zm4 0h-2v-4h2v4z\"/>\n",
              "    </g>\n",
              "</svg>\n",
              "      </button>\n",
              "\n",
              "<style>\n",
              "  .colab-df-quickchart {\n",
              "      --bg-color: #E8F0FE;\n",
              "      --fill-color: #1967D2;\n",
              "      --hover-bg-color: #E2EBFA;\n",
              "      --hover-fill-color: #174EA6;\n",
              "      --disabled-fill-color: #AAA;\n",
              "      --disabled-bg-color: #DDD;\n",
              "  }\n",
              "\n",
              "  [theme=dark] .colab-df-quickchart {\n",
              "      --bg-color: #3B4455;\n",
              "      --fill-color: #D2E3FC;\n",
              "      --hover-bg-color: #434B5C;\n",
              "      --hover-fill-color: #FFFFFF;\n",
              "      --disabled-bg-color: #3B4455;\n",
              "      --disabled-fill-color: #666;\n",
              "  }\n",
              "\n",
              "  .colab-df-quickchart {\n",
              "    background-color: var(--bg-color);\n",
              "    border: none;\n",
              "    border-radius: 50%;\n",
              "    cursor: pointer;\n",
              "    display: none;\n",
              "    fill: var(--fill-color);\n",
              "    height: 32px;\n",
              "    padding: 0;\n",
              "    width: 32px;\n",
              "  }\n",
              "\n",
              "  .colab-df-quickchart:hover {\n",
              "    background-color: var(--hover-bg-color);\n",
              "    box-shadow: 0 1px 2px rgba(60, 64, 67, 0.3), 0 1px 3px 1px rgba(60, 64, 67, 0.15);\n",
              "    fill: var(--button-hover-fill-color);\n",
              "  }\n",
              "\n",
              "  .colab-df-quickchart-complete:disabled,\n",
              "  .colab-df-quickchart-complete:disabled:hover {\n",
              "    background-color: var(--disabled-bg-color);\n",
              "    fill: var(--disabled-fill-color);\n",
              "    box-shadow: none;\n",
              "  }\n",
              "\n",
              "  .colab-df-spinner {\n",
              "    border: 2px solid var(--fill-color);\n",
              "    border-color: transparent;\n",
              "    border-bottom-color: var(--fill-color);\n",
              "    animation:\n",
              "      spin 1s steps(1) infinite;\n",
              "  }\n",
              "\n",
              "  @keyframes spin {\n",
              "    0% {\n",
              "      border-color: transparent;\n",
              "      border-bottom-color: var(--fill-color);\n",
              "      border-left-color: var(--fill-color);\n",
              "    }\n",
              "    20% {\n",
              "      border-color: transparent;\n",
              "      border-left-color: var(--fill-color);\n",
              "      border-top-color: var(--fill-color);\n",
              "    }\n",
              "    30% {\n",
              "      border-color: transparent;\n",
              "      border-left-color: var(--fill-color);\n",
              "      border-top-color: var(--fill-color);\n",
              "      border-right-color: var(--fill-color);\n",
              "    }\n",
              "    40% {\n",
              "      border-color: transparent;\n",
              "      border-right-color: var(--fill-color);\n",
              "      border-top-color: var(--fill-color);\n",
              "    }\n",
              "    60% {\n",
              "      border-color: transparent;\n",
              "      border-right-color: var(--fill-color);\n",
              "    }\n",
              "    80% {\n",
              "      border-color: transparent;\n",
              "      border-right-color: var(--fill-color);\n",
              "      border-bottom-color: var(--fill-color);\n",
              "    }\n",
              "    90% {\n",
              "      border-color: transparent;\n",
              "      border-bottom-color: var(--fill-color);\n",
              "    }\n",
              "  }\n",
              "</style>\n",
              "\n",
              "      <script>\n",
              "        async function quickchart(key) {\n",
              "          const quickchartButtonEl =\n",
              "            document.querySelector('#' + key + ' button');\n",
              "          quickchartButtonEl.disabled = true;  // To prevent multiple clicks.\n",
              "          quickchartButtonEl.classList.add('colab-df-spinner');\n",
              "          try {\n",
              "            const charts = await google.colab.kernel.invokeFunction(\n",
              "                'suggestCharts', [key], {});\n",
              "          } catch (error) {\n",
              "            console.error('Error during call to suggestCharts:', error);\n",
              "          }\n",
              "          quickchartButtonEl.classList.remove('colab-df-spinner');\n",
              "          quickchartButtonEl.classList.add('colab-df-quickchart-complete');\n",
              "        }\n",
              "        (() => {\n",
              "          let quickchartButtonEl =\n",
              "            document.querySelector('#df-05a6b75c-fd73-47da-a741-746ecfa04bd1 button');\n",
              "          quickchartButtonEl.style.display =\n",
              "            google.colab.kernel.accessAllowed ? 'block' : 'none';\n",
              "        })();\n",
              "      </script>\n",
              "    </div>\n",
              "\n",
              "  <div id=\"id_6c573438-79f8-4b9a-9ecf-fc7d1fea3ae9\">\n",
              "    <style>\n",
              "      .colab-df-generate {\n",
              "        background-color: #E8F0FE;\n",
              "        border: none;\n",
              "        border-radius: 50%;\n",
              "        cursor: pointer;\n",
              "        display: none;\n",
              "        fill: #1967D2;\n",
              "        height: 32px;\n",
              "        padding: 0 0 0 0;\n",
              "        width: 32px;\n",
              "      }\n",
              "\n",
              "      .colab-df-generate:hover {\n",
              "        background-color: #E2EBFA;\n",
              "        box-shadow: 0px 1px 2px rgba(60, 64, 67, 0.3), 0px 1px 3px 1px rgba(60, 64, 67, 0.15);\n",
              "        fill: #174EA6;\n",
              "      }\n",
              "\n",
              "      [theme=dark] .colab-df-generate {\n",
              "        background-color: #3B4455;\n",
              "        fill: #D2E3FC;\n",
              "      }\n",
              "\n",
              "      [theme=dark] .colab-df-generate:hover {\n",
              "        background-color: #434B5C;\n",
              "        box-shadow: 0px 1px 3px 1px rgba(0, 0, 0, 0.15);\n",
              "        filter: drop-shadow(0px 1px 2px rgba(0, 0, 0, 0.3));\n",
              "        fill: #FFFFFF;\n",
              "      }\n",
              "    </style>\n",
              "    <button class=\"colab-df-generate\" onclick=\"generateWithVariable('final_fitness_df')\"\n",
              "            title=\"Generate code using this dataframe.\"\n",
              "            style=\"display:none;\">\n",
              "\n",
              "  <svg xmlns=\"http://www.w3.org/2000/svg\" height=\"24px\"viewBox=\"0 0 24 24\"\n",
              "       width=\"24px\">\n",
              "    <path d=\"M7,19H8.4L18.45,9,17,7.55,7,17.6ZM5,21V16.75L18.45,3.32a2,2,0,0,1,2.83,0l1.4,1.43a1.91,1.91,0,0,1,.58,1.4,1.91,1.91,0,0,1-.58,1.4L9.25,21ZM18.45,9,17,7.55Zm-12,3A5.31,5.31,0,0,0,4.9,8.1,5.31,5.31,0,0,0,1,6.5,5.31,5.31,0,0,0,4.9,4.9,5.31,5.31,0,0,0,6.5,1,5.31,5.31,0,0,0,8.1,4.9,5.31,5.31,0,0,0,12,6.5,5.46,5.46,0,0,0,6.5,12Z\"/>\n",
              "  </svg>\n",
              "    </button>\n",
              "    <script>\n",
              "      (() => {\n",
              "      const buttonEl =\n",
              "        document.querySelector('#id_6c573438-79f8-4b9a-9ecf-fc7d1fea3ae9 button.colab-df-generate');\n",
              "      buttonEl.style.display =\n",
              "        google.colab.kernel.accessAllowed ? 'block' : 'none';\n",
              "\n",
              "      buttonEl.onclick = () => {\n",
              "        google.colab.notebook.generateWithVariable('final_fitness_df');\n",
              "      }\n",
              "      })();\n",
              "    </script>\n",
              "  </div>\n",
              "\n",
              "    </div>\n",
              "  </div>\n"
            ],
            "application/vnd.google.colaboratory.intrinsic+json": {
              "type": "dataframe",
              "variable_name": "final_fitness_df",
              "summary": "{\n  \"name\": \"final_fitness_df\",\n  \"rows\": 5,\n  \"fields\": [\n    {\n      \"column\": \"params_str\",\n      \"properties\": {\n        \"dtype\": \"string\",\n        \"num_unique_values\": 5,\n        \"samples\": [\n          \"POP_SIZE:50, GENS:50, MUT_RATE:0.1, CROSS_RATE:0.7\",\n          \"POP_SIZE:20, GENS:50, MUT_RATE:0.1, CROSS_RATE:0.9\",\n          \"POP_SIZE:20, GENS:100, MUT_RATE:0.1, CROSS_RATE:0.7\"\n        ],\n        \"semantic_type\": \"\",\n        \"description\": \"\"\n      }\n    },\n    {\n      \"column\": \"Final_Best_Fitness\",\n      \"properties\": {\n        \"dtype\": \"number\",\n        \"std\": 0.0009140328793442029,\n        \"min\": -17.027952720938767,\n        \"max\": -17.02586028699536,\n        \"num_unique_values\": 5,\n        \"samples\": [\n          -17.026490639416494,\n          -17.027935314521915,\n          -17.02586028699536\n        ],\n        \"semantic_type\": \"\",\n        \"description\": \"\"\n      }\n    }\n  ]\n}"
            }
          },
          "metadata": {}
        }
      ],
      "source": [
        "# Extract the final best fitness for each parameter combination\n",
        "final_fitness_data = []\n",
        "for result in all_results:\n",
        "    params = result['params']\n",
        "    df_log = result['df_log']\n",
        "    final_best_fitness = df_log['Fitness'].iloc[-1]\n",
        "    params_str = ', '.join([f\"{k}:{v}\" for k, v in params.items()])\n",
        "    final_fitness_data.append({'params_str': params_str, 'Final_Best_Fitness': final_best_fitness})\n",
        "\n",
        "# Create a pandas DataFrame\n",
        "final_fitness_df = pd.DataFrame(final_fitness_data)\n",
        "\n",
        "# Display the DataFrame\n",
        "print(\"Final Best Fitness for each parameter combination:\")\n",
        "display(final_fitness_df)\n"
      ]
    },
    {
      "cell_type": "code",
      "source": [
        "# visualize trade offs\n",
        "from matplotlib.ticker import FormatStrFormatter\n",
        "\n",
        "plt.figure(figsize=(10, 6))\n",
        "plt.scatter(exec_time_df['exec_time'], final_fitness_df['Final_Best_Fitness'])\n",
        "\n",
        "# Annotate points with letters\n",
        "labels = ['A', 'B', 'C', 'D', 'E']\n",
        "for i, txt in enumerate(labels):\n",
        "    plt.annotate(txt, (exec_time_df['exec_time'][i], final_fitness_df['Final_Best_Fitness'][i]), textcoords=\"offset points\", xytext=(0,10), ha='center', fontsize=8)\n",
        "\n",
        "\n",
        "plt.xlabel('Execution Time (s)')\n",
        "plt.ylabel('Final Best Fitness')\n",
        "plt.title('Trade-off between Execution Time and Final Fitness')\n",
        "plt.grid(True)\n",
        "\n",
        "# Set y-axis tick formatter\n",
        "plt.gca().yaxis.set_major_formatter(FormatStrFormatter('%.2f'))\n",
        "\n",
        "plt.show()"
      ],
      "metadata": {
        "colab": {
          "base_uri": "https://localhost:8080/",
          "height": 564
        },
        "id": "owEqGcggThec",
        "outputId": "b301c4d3-f825-436d-bdcd-5775cd027336"
      },
      "execution_count": 240,
      "outputs": [
        {
          "output_type": "display_data",
          "data": {
            "text/plain": [
              "<Figure size 1000x600 with 1 Axes>"
            ],
            "image/png": "[encoded data removed]"
          },
          "metadata": {}
        }
      ]
    },
    {
      "cell_type": "code",
      "source": [],
      "metadata": {
        "id": "Dv2p7gKhTiM7"
      },
      "execution_count": null,
      "outputs": []
    }
  ],
  "metadata": {
    "colab": {
      "provenance": []
    },
    "kernelspec": {
      "display_name": "Python 3",
      "name": "python3"
    },
    "language_info": {
      "name": "python"
    }
  },
  "nbformat": 4,
  "nbformat_minor": 0
}